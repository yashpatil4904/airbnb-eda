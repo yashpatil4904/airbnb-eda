{
  "cells": [
    {
      "cell_type": "code",
      "execution_count": null,
      "metadata": {
        "colab": {
          "background_save": true
        },
        "id": "Pxm3vmZzrVDl"
      },
      "outputs": [],
      "source": [
        "#reading all file\n",
        "import pandas as pd\n",
        "df_los_angeles=pd.read_csv(\"/content/los_angeles_listing.csv\")\n",
        "df_oakland=pd.read_csv(\"/content/oakland.csv\")\n",
        "df_portland=pd.read_csv(\"/content/portland.csv\")\n",
        "df_pacific_grove=pd.read_csv(\"/content/pacific_grove.csv\")\n",
        "df_san_diego=pd.read_csv(\"/content/san_diego.csv\")\n",
        "df_san_francisco=pd.read_csv(\"/content/san_francisco.csv\")\n",
        "df_san_mateo=pd.read_csv(\"/content/san_mateo.csv\")\n",
        "df_santa_clara=pd.read_csv(\"/content/santa_clara.csv\")\n",
        "df_santa_cruz=pd.read_csv(\"/content/santa_cruz.csv\")\n",
        "df_seattle=pd.read_csv(\"/content/seattle.csv\")\n",
        "\n",
        "df_los_angeles['city'] = 'los_angeles'\n",
        "df_oakland['city'] = 'oakland'\n",
        "df_portland['city'] = 'portland'\n",
        "df_pacific_grove['city'] = 'pacific_grove'\n",
        "df_san_diego['city'] = 'san_diego'\n",
        "df_san_francisco['city'] = 'san_francisco'\n",
        "df_san_mateo['city'] = 'san_mateo'\n",
        "df_santa_clara['city'] = 'santa_clara'\n",
        "df_santa_cruz['city'] = 'santa_cruz'\n",
        "df_seattle['city'] = 'seattle'\n",
        "\n",
        "print(f\"Los Angeles: {len(df_los_angeles)}\")\n",
        "print(f\"Oakland: {len(df_oakland)}\")\n",
        "print(f\"Portland: {len(df_portland)}\")\n",
        "print(f\"Pacific Grove: {len(df_pacific_grove)}\")\n",
        "print(f\"San Diego: {len(df_san_diego)}\")\n",
        "print(f\"San Francisco: {len(df_san_francisco)}\")\n",
        "print(f\"San Mateo: {len(df_san_mateo)}\")\n",
        "print(f\"Santa Clara: {len(df_santa_clara)}\")\n",
        "print(f\"Santa Cruz: {len(df_santa_cruz)}\")\n",
        "print(f\"Seattle: {len(df_seattle)}\")"
      ]
    },
    {
      "cell_type": "markdown",
      "metadata": {
        "id": "1nTrC6tFwJg4"
      },
      "source": [
        "Total Records in the Original Dataset\n",
        "Total Records\n",
        "=\n",
        "91\n",
        ",\n",
        "268\n",
        "\n",
        "\n",
        "Total Records=91,268\n",
        "\n",
        "\n",
        "Dividing these record into 10,000\n",
        "\n",
        "\n",
        "Proportion of Each City’s Records in the Original Dataset\n",
        "\n",
        "\n",
        "\n",
        "City Proportion\n",
        "=\n",
        "City’s Records/\n",
        "91\n",
        ",\n",
        "268\n",
        "\n",
        "\n",
        "Sample Size for Each City\n",
        "\n",
        "\n",
        "\n",
        "City Sample Size\n",
        "=\n",
        "City Proportion\n",
        "×\n",
        "10\n",
        ",\n",
        "000\n"
      ]
    },
    {
      "cell_type": "code",
      "execution_count": null,
      "metadata": {
        "colab": {
          "base_uri": "https://localhost:8080/"
        },
        "id": "qyZTNTVwwLpA",
        "outputId": "7b392a5b-01ac-4ae8-884a-5d2aecbd56f0"
      },
      "outputs": [
        {
          "name": "stdout",
          "output_type": "stream",
          "text": [
            "Stratified sample of 10000 records created successfully!\n"
          ]
        }
      ],
      "source": [
        "full_data = pd.concat([\n",
        "    df_los_angeles, df_oakland, df_portland, df_pacific_grove,\n",
        "    df_san_diego, df_san_francisco, df_san_mateo, df_santa_clara,\n",
        "    df_santa_cruz, df_seattle\n",
        "], ignore_index=True)\n",
        "\n",
        "# Calculate proportions and sample sizes for each city\n",
        "total_records = len(full_data)\n",
        "sample_size = 10000\n",
        "\n",
        "city_counts = full_data['city'].value_counts()\n",
        "city_proportions = city_counts / total_records\n",
        "city_sample_sizes = (city_proportions * sample_size).round().astype(int)\n",
        "\n",
        "# Initialize an empty DataFrame for the final sample\n",
        "sampled_data = pd.DataFrame()\n",
        "\n",
        "# Perform stratified sampling from each city\n",
        "for city, size in city_sample_sizes.items():\n",
        "    city_data = full_data[full_data['city'] == city]\n",
        "    sampled_city_data = city_data.sample(n=size, random_state=42)\n",
        "    sampled_data = pd.concat([sampled_data, sampled_city_data])\n",
        "\n",
        "# Save the sampled dataset to a new CSV file\n",
        "sampled_data.to_csv('/content/west_coast_dataset.csv', index=False)\n",
        "\n",
        "print(f\"Stratified sample of {sample_size} records created successfully!\")"
      ]
    },
    {
      "cell_type": "markdown",
      "metadata": {
        "id": "n1RnVv2JzgxK"
      },
      "source": [
        "here the creation of stratified sampling is done"
      ]
    },
    {
      "cell_type": "code",
      "execution_count": null,
      "metadata": {
        "id": "7zFHEUKRznIB"
      },
      "outputs": [],
      "source": [
        "import pandas as pd\n",
        "df=pd.read_csv('/content/west_coast_dataset.csv')\n",
        "df.head()\n"
      ]
    }
  ],
  "metadata": {
    "colab": {
      "provenance": [],
      "toc_visible": true
    },
    "kernelspec": {
      "display_name": "Python 3",
      "name": "python3"
    },
    "language_info": {
      "name": "python"
    }
  },
  "nbformat": 4,
  "nbformat_minor": 0
}